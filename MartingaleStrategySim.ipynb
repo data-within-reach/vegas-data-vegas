{
 "cells": [
  {
   "cell_type": "markdown",
   "id": "5098e956",
   "metadata": {},
   "source": [
    "tutorial on strategy to make doubled bets on a game, such as roulette.  This will be a multi part tutorial,\n",
    "\n",
    "- Part 1: model the roulette wheel, and do a bit of data science to see the output of the modeled roulette wheel\n",
    "- Part 2: model a gambling table, with min and max bets\n",
    "- Part 3: model the bet structure\n",
    "- Part 4: dig into the data"
   ]
  },
  {
   "cell_type": "code",
   "execution_count": 1,
   "id": "61c21347",
   "metadata": {},
   "outputs": [
    {
     "name": "stdout",
     "output_type": "stream",
     "text": [
      "['Red', 'Black', 'Black', 'Black', 'Black', 'Red', 'Black', 'Black', 'Red', 'Black', 'Red', 'Green', 'Black', 'Black', 'Black', 'Red', 'Red', 'Black', 'Black', 'Black', 'Black', 'Red', 'Black', 'Red', 'Black', 'Red', 'Red', 'Black', 'Red', 'Red', 'Red', 'Red', 'Black', 'Red', 'Red', 'Black', 'Red', 'Black', 'Black', 'Red', 'Red', 'Black', 'Black', 'Black', 'Black', 'Black', 'Black', 'Red', 'Red', 'Red']\n"
     ]
    }
   ],
   "source": [
    "import random\n",
    "\n",
    "class RouletteWheel:\n",
    "    \"\"\"The RouletteWheel class creates a model of a fair roulette wheel.  The default constructor is a wheel with a '0' and a '00'\"\"\"\n",
    "    win_payout = 2 # this is the payout for red/black\n",
    "    lose_payout = 0 \n",
    "    \n",
    "    def __init__(self):\n",
    "        \"\"\"The default constructor, with '00' and '0'\"\"\"\n",
    "        self.wheel = [1,2,3,4,5,6,7,8,9,10,11,12,13,14,15,16,17,18,19,20,21,22,23,24,25,26,27,28,29,30,31,32,33,34,35,36,'0','00']\n",
    "        self.int_position = 0 # starting point for a fresh wheel\n",
    "        \n",
    "    def spin_wheel(self):\n",
    "        self.int_position = random.randint(0,37)\n",
    "        return self.int_position\n",
    "    \n",
    "    def get_spin_result(self):\n",
    "        return str(self.wheel[self.int_position])\n",
    "    \n",
    "    def get_color(self):\n",
    "        color = \"\"\n",
    "        if self.int_position == 37:\n",
    "            color = \"Green\"\n",
    "            return color\n",
    "        if self.int_position == 36:\n",
    "            color = \"Green\"\n",
    "            return color\n",
    "        if self.int_position % 2 == 1:\n",
    "            # this is when you have an odd number\n",
    "            color = \"Black\"\n",
    "            return color\n",
    "        if self.int_position % 2 == 0:\n",
    "            # this is where you have an even number\n",
    "            color = \"Red\"\n",
    "            return color\n",
    "        \n",
    "this_is_a_fair_roulette_wheel = RouletteWheel()\n",
    "\n",
    "bunch_of_spins = []\n",
    "for i in range(50):\n",
    "    this_is_a_fair_roulette_wheel.spin_wheel()\n",
    "    bunch_of_spins.append(this_is_a_fair_roulette_wheel.get_color())\n",
    "    \n",
    "\n",
    "print(bunch_of_spins)\n",
    "    "
   ]
  },
  {
   "cell_type": "markdown",
   "id": "bd9b55c6",
   "metadata": {},
   "source": [
    "Let's add some data sciency stuff into this model...  I want to show a histogram"
   ]
  },
  {
   "cell_type": "code",
   "execution_count": 2,
   "id": "8ae3289c",
   "metadata": {},
   "outputs": [
    {
     "data": {
      "text/plain": [
       "(array([2.0167e+04, 3.0800e+03, 2.2100e+03, 3.4700e+02, 1.4600e+02,\n",
       "        1.2300e+02, 2.3000e+01, 1.0000e+01, 1.0000e+00, 4.0000e+00]),\n",
       " array([ 0. ,  1.4,  2.8,  4.2,  5.6,  7. ,  8.4,  9.8, 11.2, 12.6, 14. ]),\n",
       " <BarContainer object of 10 artists>)"
      ]
     },
     "execution_count": 2,
     "metadata": {},
     "output_type": "execute_result"
    },
    {
     "data": {
      "image/png": "[encoded data removed]",
      "text/plain": [
       "<Figure size 432x288 with 1 Axes>"
      ]
     },
     "metadata": {
      "needs_background": "light"
     },
     "output_type": "display_data"
    }
   ],
   "source": [
    "import numpy as np\n",
    "import matplotlib.pyplot as plt\n",
    "\n",
    "another_roulette_wheel = RouletteWheel()\n",
    "really_lots_of_spins = []\n",
    "\n",
    "for i in range(50000):\n",
    "    another_roulette_wheel.spin_wheel()\n",
    "    really_lots_of_spins.append(another_roulette_wheel.get_color())\n",
    "    \n",
    "#really_lots_of_spins\n",
    "    \n",
    "def count_consecutive_spins(spins_list):\n",
    "    number_in_a_row = []\n",
    "    tempCount = 0\n",
    "    for i in spins_list:\n",
    "        if i != \"Black\":\n",
    "            number_in_a_row.append(tempCount)\n",
    "            tempCount = 0\n",
    "        else:\n",
    "            tempCount = tempCount + 1\n",
    "    return number_in_a_row\n",
    "\n",
    "black_results = count_consecutive_spins(really_lots_of_spins)\n",
    "\n",
    "plt.hist(black_results)"
   ]
  },
  {
   "cell_type": "markdown",
   "id": "a9bde01e",
   "metadata": {},
   "source": [
    "Let's create a \"table\" that holds the roulette wheel.  The key attributes that we will need to model for this table are the min and max bets...... for our strategy this is important.  "
   ]
  },
  {
   "cell_type": "code",
   "execution_count": 3,
   "id": "2c2044d1",
   "metadata": {},
   "outputs": [
    {
     "name": "stdout",
     "output_type": "stream",
     "text": [
      "Min bet must be less than max bet.\n",
      "Bet not accepted\n",
      "Bet not accepted\n",
      "Bet accepted\n"
     ]
    },
    {
     "data": {
      "text/plain": [
       "200"
      ]
     },
     "execution_count": 3,
     "metadata": {},
     "output_type": "execute_result"
    }
   ],
   "source": [
    "class TableGame:\n",
    "    \"\"\"The TableGame class sets the min and max bets and accepts the bets.  Default constructor is roulette.\"\"\"\n",
    "    def __init__(self, min_bet, max_bet):\n",
    "        \"\"\"the default constructor - roulette wheel\"\"\"\n",
    "        self.table = RouletteWheel()\n",
    "        if min_bet <= max_bet:\n",
    "            self.min_bet = min_bet\n",
    "            self.max_bet = max_bet\n",
    "            self.bet = 0\n",
    "        else:\n",
    "            print(\"Min bet must be less than max bet.\")\n",
    "    \n",
    "    def place_bet(self, amount_bet):\n",
    "        if amount_bet < self.min_bet:\n",
    "            print(\"Bet not accepted\")\n",
    "            return 0\n",
    "        if amount_bet > self.max_bet:\n",
    "            print(\"Bet not accepted\")\n",
    "            return 0\n",
    "        print(\"Bet accepted\")\n",
    "        self.bet = amount_bet\n",
    "        return self.bet\n",
    " \n",
    "not_really_valid_table = TableGame(50000, 3)\n",
    "\n",
    "valid_table = TableGame(5, 1000)\n",
    "\n",
    "valid_table.place_bet(3)\n",
    "valid_table.place_bet(1001)\n",
    "\n",
    "valid_table.place_bet(200)"
   ]
  }
 ],
 "metadata": {
  "kernelspec": {
   "display_name": "Python 3 (ipykernel)",
   "language": "python",
   "name": "python3"
  },
  "language_info": {
   "codemirror_mode": {
    "name": "ipython",
    "version": 3
   },
   "file_extension": ".py",
   "mimetype": "text/x-python",
   "name": "python",
   "nbconvert_exporter": "python",
   "pygments_lexer": "ipython3",
   "version": "3.9.0"
  }
 },
 "nbformat": 4,
 "nbformat_minor": 5
}
